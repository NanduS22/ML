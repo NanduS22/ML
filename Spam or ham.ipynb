{
 "cells": [
  {
   "cell_type": "code",
   "execution_count": 9,
   "id": "82f86c90",
   "metadata": {},
   "outputs": [],
   "source": [
    "#importing packages\n",
    "import numpy as np\n",
    "import pandas as pd\n",
    "import seaborn as sns\n",
    "from sklearn.model_selection import train_test_split\n",
    "from sklearn.naive_bayes import MultinomialNB\n",
    "from sklearn.feature_extraction.text import CountVectorizer\n"
   ]
  },
  {
   "cell_type": "code",
   "execution_count": 4,
   "id": "5cab975b",
   "metadata": {},
   "outputs": [
    {
     "data": {
      "text/html": [
       "<div>\n",
       "<style scoped>\n",
       "    .dataframe tbody tr th:only-of-type {\n",
       "        vertical-align: middle;\n",
       "    }\n",
       "\n",
       "    .dataframe tbody tr th {\n",
       "        vertical-align: top;\n",
       "    }\n",
       "\n",
       "    .dataframe thead th {\n",
       "        text-align: right;\n",
       "    }\n",
       "</style>\n",
       "<table border=\"1\" class=\"dataframe\">\n",
       "  <thead>\n",
       "    <tr style=\"text-align: right;\">\n",
       "      <th></th>\n",
       "      <th>email</th>\n",
       "      <th>label</th>\n",
       "    </tr>\n",
       "  </thead>\n",
       "  <tbody>\n",
       "    <tr>\n",
       "      <th>0</th>\n",
       "      <td>date wed NUMBER aug NUMBER NUMBER NUMBER NUMB...</td>\n",
       "      <td>0</td>\n",
       "    </tr>\n",
       "    <tr>\n",
       "      <th>1</th>\n",
       "      <td>martin a posted tassos papadopoulos the greek ...</td>\n",
       "      <td>0</td>\n",
       "    </tr>\n",
       "    <tr>\n",
       "      <th>2</th>\n",
       "      <td>man threatens explosion in moscow thursday aug...</td>\n",
       "      <td>0</td>\n",
       "    </tr>\n",
       "    <tr>\n",
       "      <th>3</th>\n",
       "      <td>klez the virus that won t die already the most...</td>\n",
       "      <td>0</td>\n",
       "    </tr>\n",
       "    <tr>\n",
       "      <th>4</th>\n",
       "      <td>in adding cream to spaghetti carbonara which ...</td>\n",
       "      <td>0</td>\n",
       "    </tr>\n",
       "    <tr>\n",
       "      <th>5</th>\n",
       "      <td>i just had to jump in here as carbonara is on...</td>\n",
       "      <td>0</td>\n",
       "    </tr>\n",
       "    <tr>\n",
       "      <th>6</th>\n",
       "      <td>the scotsman NUMBER august NUMBER playboy want...</td>\n",
       "      <td>0</td>\n",
       "    </tr>\n",
       "    <tr>\n",
       "      <th>7</th>\n",
       "      <td>martin adamson wrote isn t it just basically a...</td>\n",
       "      <td>0</td>\n",
       "    </tr>\n",
       "    <tr>\n",
       "      <th>8</th>\n",
       "      <td>the scotsman thu NUMBER aug NUMBER meaningful ...</td>\n",
       "      <td>0</td>\n",
       "    </tr>\n",
       "    <tr>\n",
       "      <th>9</th>\n",
       "      <td>i have been trying to research via sa mirrors ...</td>\n",
       "      <td>0</td>\n",
       "    </tr>\n",
       "    <tr>\n",
       "      <th>10</th>\n",
       "      <td>hello have you seen and discussed this article...</td>\n",
       "      <td>0</td>\n",
       "    </tr>\n",
       "    <tr>\n",
       "      <th>11</th>\n",
       "      <td>yes great minds think alike but even withput e...</td>\n",
       "      <td>0</td>\n",
       "    </tr>\n",
       "    <tr>\n",
       "      <th>12</th>\n",
       "      <td>on mon aug NUMBER NUMBER at NUMBER NUMBER NUMB...</td>\n",
       "      <td>0</td>\n",
       "    </tr>\n",
       "    <tr>\n",
       "      <th>13</th>\n",
       "      <td>from chris garrigues cwg exmh deepeddy com da...</td>\n",
       "      <td>0</td>\n",
       "    </tr>\n",
       "    <tr>\n",
       "      <th>14</th>\n",
       "      <td>spamassassin is hurting democracy owen URL int...</td>\n",
       "      <td>0</td>\n",
       "    </tr>\n",
       "  </tbody>\n",
       "</table>\n",
       "</div>"
      ],
      "text/plain": [
       "                                                email  label\n",
       "0    date wed NUMBER aug NUMBER NUMBER NUMBER NUMB...      0\n",
       "1   martin a posted tassos papadopoulos the greek ...      0\n",
       "2   man threatens explosion in moscow thursday aug...      0\n",
       "3   klez the virus that won t die already the most...      0\n",
       "4    in adding cream to spaghetti carbonara which ...      0\n",
       "5    i just had to jump in here as carbonara is on...      0\n",
       "6   the scotsman NUMBER august NUMBER playboy want...      0\n",
       "7   martin adamson wrote isn t it just basically a...      0\n",
       "8   the scotsman thu NUMBER aug NUMBER meaningful ...      0\n",
       "9   i have been trying to research via sa mirrors ...      0\n",
       "10  hello have you seen and discussed this article...      0\n",
       "11  yes great minds think alike but even withput e...      0\n",
       "12  on mon aug NUMBER NUMBER at NUMBER NUMBER NUMB...      0\n",
       "13   from chris garrigues cwg exmh deepeddy com da...      0\n",
       "14  spamassassin is hurting democracy owen URL int...      0"
      ]
     },
     "execution_count": 4,
     "metadata": {},
     "output_type": "execute_result"
    }
   ],
   "source": [
    "#reading the data \n",
    "data=pd.read_csv('/home/labexam/Desktop/spam/spam_or_not_spam.csv')\n",
    "data.head(15)"
   ]
  },
  {
   "cell_type": "code",
   "execution_count": 5,
   "id": "d1e01258",
   "metadata": {},
   "outputs": [
    {
     "data": {
      "text/plain": [
       "(3000, 2)"
      ]
     },
     "execution_count": 5,
     "metadata": {},
     "output_type": "execute_result"
    }
   ],
   "source": [
    "#details of the data\n",
    "data.shape"
   ]
  },
  {
   "cell_type": "code",
   "execution_count": 8,
   "id": "961dc1d4",
   "metadata": {},
   "outputs": [
    {
     "data": {
      "text/html": [
       "<div>\n",
       "<style scoped>\n",
       "    .dataframe tbody tr th:only-of-type {\n",
       "        vertical-align: middle;\n",
       "    }\n",
       "\n",
       "    .dataframe tbody tr th {\n",
       "        vertical-align: top;\n",
       "    }\n",
       "\n",
       "    .dataframe thead tr th {\n",
       "        text-align: left;\n",
       "    }\n",
       "\n",
       "    .dataframe thead tr:last-of-type th {\n",
       "        text-align: right;\n",
       "    }\n",
       "</style>\n",
       "<table border=\"1\" class=\"dataframe\">\n",
       "  <thead>\n",
       "    <tr>\n",
       "      <th></th>\n",
       "      <th colspan=\"4\" halign=\"left\">email</th>\n",
       "    </tr>\n",
       "    <tr>\n",
       "      <th></th>\n",
       "      <th>count</th>\n",
       "      <th>unique</th>\n",
       "      <th>top</th>\n",
       "      <th>freq</th>\n",
       "    </tr>\n",
       "    <tr>\n",
       "      <th>label</th>\n",
       "      <th></th>\n",
       "      <th></th>\n",
       "      <th></th>\n",
       "      <th></th>\n",
       "    </tr>\n",
       "  </thead>\n",
       "  <tbody>\n",
       "    <tr>\n",
       "      <th>0</th>\n",
       "      <td>2500</td>\n",
       "      <td>2445</td>\n",
       "      <td>url URL date not supplied URL</td>\n",
       "      <td>10</td>\n",
       "    </tr>\n",
       "    <tr>\n",
       "      <th>1</th>\n",
       "      <td>499</td>\n",
       "      <td>427</td>\n",
       "      <td>lowest rates available for term life insurance...</td>\n",
       "      <td>5</td>\n",
       "    </tr>\n",
       "  </tbody>\n",
       "</table>\n",
       "</div>"
      ],
      "text/plain": [
       "      email                                                               \n",
       "      count unique                                                top freq\n",
       "label                                                                     \n",
       "0      2500   2445                     url URL date not supplied URL    10\n",
       "1       499    427  lowest rates available for term life insurance...    5"
      ]
     },
     "execution_count": 8,
     "metadata": {},
     "output_type": "execute_result"
    }
   ],
   "source": [
    "data.groupby('label').describe()"
   ]
  },
  {
   "cell_type": "code",
   "execution_count": 10,
   "id": "f2682503",
   "metadata": {},
   "outputs": [
    {
     "data": {
      "text/plain": [
       "<AxesSubplot:xlabel='label', ylabel='count'>"
      ]
     },
     "execution_count": 10,
     "metadata": {},
     "output_type": "execute_result"
    },
    {
     "data": {
      "image/png": "[encoded data removed]",
      "text/plain": [
       "<Figure size 432x288 with 1 Axes>"
      ]
     },
     "metadata": {
      "needs_background": "light"
     },
     "output_type": "display_data"
    }
   ],
   "source": [
    "sns.countplot(x='label',data=data)"
   ]
  },
  {
   "cell_type": "code",
   "execution_count": 19,
   "id": "aa100d65",
   "metadata": {},
   "outputs": [],
   "source": [
    "#checking for nnan values\n",
    "data.isna().sum()\n",
    "data=data.dropna()\n"
   ]
  },
  {
   "cell_type": "code",
   "execution_count": 20,
   "id": "dd6f07a8",
   "metadata": {},
   "outputs": [
    {
     "data": {
      "text/plain": [
       "email    0\n",
       "label    0\n",
       "dtype: int64"
      ]
     },
     "execution_count": 20,
     "metadata": {},
     "output_type": "execute_result"
    }
   ],
   "source": [
    "data.isna().sum()"
   ]
  },
  {
   "cell_type": "code",
   "execution_count": 21,
   "id": "3a2773d7",
   "metadata": {},
   "outputs": [
    {
     "name": "stdout",
     "output_type": "stream",
     "text": [
      "(2399,)\n",
      "(600,)\n",
      "(2399,)\n",
      "(600,)\n"
     ]
    }
   ],
   "source": [
    "#splitting into test train data\n",
    "x_train, x_test, y_train, y_test = train_test_split(data['email'],data['label'],test_size=0.20)\n",
    "print(x_train.shape)\n",
    "print(x_test.shape)\n",
    "print(y_train.shape)\n",
    "print(y_test.shape)"
   ]
  },
  {
   "cell_type": "code",
   "execution_count": 22,
   "id": "604e5115",
   "metadata": {},
   "outputs": [
    {
     "data": {
      "text/plain": [
       "1493     would someone please enlighten me on dependen...\n",
       "1178     mcmasjc URL said NUMBER you can learn to use ...\n",
       "2810     這是委託由專業廣告公司代發勿直接回信無法接收 呦 好朋友啊 許多人能力沒有比你好 因為掌握...\n",
       "66       with our telecoms partner bumblebee don t get...\n",
       "1088    mark derricutt wrote hiya i just myself an rpm...\n",
       "1698     choose something with a different prefix than...\n",
       "2030    url URL date NUMBER NUMBER NUMBERtNUMBER NUMBE...\n",
       "793      in essence hindsight justification the progre...\n",
       "1248    once upon a time brian wrote i have a fresh ne...\n",
       "1360    justin mason wrote what do you all think are w...\n",
       "1432     zeek said this was thoroughly confusing but b...\n",
       "851      wow if they put a vrml front end on it it wou...\n",
       "994      you re probably running exmh on a local machi...\n",
       "606      from yyyy URL mailto yyyy URL sent tuesday se...\n",
       "2670    lowest rates available for term life insurance...\n",
       "Name: email, dtype: object"
      ]
     },
     "execution_count": 22,
     "metadata": {},
     "output_type": "execute_result"
    }
   ],
   "source": [
    "x_train.sample(15)"
   ]
  },
  {
   "cell_type": "code",
   "execution_count": 25,
   "id": "f554dff5",
   "metadata": {},
   "outputs": [
    {
     "name": "stdout",
     "output_type": "stream",
     "text": [
      "  (0, 26732)\t2\n",
      "  (0, 5567)\t1\n",
      "  (0, 19142)\t9\n",
      "  (0, 30741)\t10\n",
      "  (0, 5213)\t3\n",
      "  (0, 30054)\t1\n",
      "  (0, 27195)\t5\n",
      "  (0, 27540)\t1\n",
      "  (0, 27115)\t8\n",
      "  (0, 15230)\t1\n",
      "  (0, 25337)\t4\n",
      "  (0, 26596)\t1\n",
      "  (0, 26658)\t1\n",
      "  (0, 17957)\t31\n",
      "  (0, 21474)\t1\n",
      "  (0, 26330)\t1\n",
      "  (0, 25547)\t4\n",
      "  (0, 19783)\t1\n",
      "  (0, 12787)\t2\n",
      "  (0, 24975)\t2\n",
      "  (0, 30626)\t2\n",
      "  (0, 9470)\t2\n",
      "  (0, 19790)\t2\n",
      "  (0, 28822)\t2\n",
      "  (0, 1051)\t3\n",
      "  :\t:\n",
      "  (2398, 17160)\t1\n",
      "  (2398, 3690)\t1\n",
      "  (2398, 10533)\t1\n",
      "  (2398, 26945)\t1\n",
      "  (2398, 5079)\t1\n",
      "  (2398, 3019)\t1\n",
      "  (2398, 2907)\t1\n",
      "  (2398, 5214)\t1\n",
      "  (2398, 10793)\t1\n",
      "  (2398, 1388)\t1\n",
      "  (2398, 20504)\t1\n",
      "  (2398, 27348)\t1\n",
      "  (2398, 3054)\t1\n",
      "  (2398, 11506)\t1\n",
      "  (2398, 5893)\t1\n",
      "  (2398, 20345)\t1\n",
      "  (2398, 19315)\t1\n",
      "  (2398, 7123)\t1\n",
      "  (2398, 29920)\t1\n",
      "  (2398, 12317)\t1\n",
      "  (2398, 10134)\t1\n",
      "  (2398, 29831)\t1\n",
      "  (2398, 9949)\t1\n",
      "  (2398, 6818)\t1\n",
      "  (2398, 17814)\t1\n"
     ]
    }
   ],
   "source": [
    "#converting emails to vector\n",
    "cv=CountVectorizer()\n",
    "word_count=cv.fit_transform(x_train.values)\n",
    "print(word_count)"
   ]
  },
  {
   "cell_type": "code",
   "execution_count": 26,
   "id": "0d4ec8dc",
   "metadata": {},
   "outputs": [
    {
     "data": {
      "text/plain": [
       "array([[0, 0, 0, ..., 0, 0, 0],\n",
       "       [0, 0, 0, ..., 0, 0, 0],\n",
       "       [0, 0, 0, ..., 0, 0, 0],\n",
       "       ...,\n",
       "       [0, 0, 0, ..., 0, 0, 0],\n",
       "       [0, 0, 0, ..., 0, 0, 0],\n",
       "       [0, 0, 0, ..., 0, 0, 0]])"
      ]
     },
     "execution_count": 26,
     "metadata": {},
     "output_type": "execute_result"
    }
   ],
   "source": [
    "word_count.toarray()"
   ]
  },
  {
   "cell_type": "code",
   "execution_count": 27,
   "id": "542914ea",
   "metadata": {},
   "outputs": [
    {
     "data": {
      "text/plain": [
       "MultinomialNB()"
      ]
     },
     "execution_count": 27,
     "metadata": {},
     "output_type": "execute_result"
    }
   ],
   "source": [
    "#training the model\n",
    "model = MultinomialNB()\n",
    "model.fit(word_count, y_train)\n"
   ]
  },
  {
   "cell_type": "code",
   "execution_count": 28,
   "id": "b68bd9ac",
   "metadata": {},
   "outputs": [
    {
     "data": {
      "text/plain": [
       "array([0])"
      ]
     },
     "execution_count": 28,
     "metadata": {},
     "output_type": "execute_result"
    }
   ],
   "source": [
    "#pre-test ham case\n",
    "email_ham=['Hey man whats up?']\n",
    "email_ham_count=cv.transform(email_ham)\n",
    "model.predict(email_ham_count)"
   ]
  },
  {
   "cell_type": "code",
   "execution_count": 29,
   "id": "6898c264",
   "metadata": {},
   "outputs": [
    {
     "data": {
      "text/plain": [
       "array([1])"
      ]
     },
     "execution_count": 29,
     "metadata": {},
     "output_type": "execute_result"
    }
   ],
   "source": [
    "#pre-test spam case\n",
    "email_spam=['Our records show you overpaid for (a product or service). Kindly supply your bank routing and account number to receive your refund.']\n",
    "email_spam_count=cv.transform(email_spam)\n",
    "model.predict(email_spam_count)"
   ]
  },
  {
   "cell_type": "code",
   "execution_count": 30,
   "id": "5158f064",
   "metadata": {},
   "outputs": [
    {
     "data": {
      "text/plain": [
       "0.99"
      ]
     },
     "execution_count": 30,
     "metadata": {},
     "output_type": "execute_result"
    }
   ],
   "source": [
    "#testing with test data\n",
    "test_count = cv.transform(x_test)\n",
    "model.score(test_count, y_test)"
   ]
  },
  {
   "cell_type": "code",
   "execution_count": null,
   "id": "5e9bf6dc",
   "metadata": {},
   "outputs": [],
   "source": []
  },
  {
   "cell_type": "code",
   "execution_count": null,
   "id": "398415bf",
   "metadata": {},
   "outputs": [],
   "source": []
  }
 ],
 "metadata": {
  "kernelspec": {
   "display_name": "Python 3 (ipykernel)",
   "language": "python",
   "name": "python3"
  },
  "language_info": {
   "codemirror_mode": {
    "name": "ipython",
    "version": 3
   },
   "file_extension": ".py",
   "mimetype": "text/x-python",
   "name": "python",
   "nbconvert_exporter": "python",
   "pygments_lexer": "ipython3",
   "version": "3.9.12"
  }
 },
 "nbformat": 4,
 "nbformat_minor": 5
}
